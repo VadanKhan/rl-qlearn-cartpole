{
  "cells": [
    {
      "cell_type": "code",
      "execution_count": null,
      "metadata": {
        "colab": {
          "base_uri": "https://localhost:8080/",
          "height": 602
        },
        "collapsed": true,
        "id": "0rQajcQjXKPX",
        "outputId": "5f53c826-b445-446e-91d3-8242f8912811"
      },
      "outputs": [
        {
          "name": "stdout",
          "output_type": "stream",
          "text": [
            "Collecting numpy==1.23.5\n",
            "  Downloading numpy-1.23.5-cp311-cp311-manylinux_2_17_x86_64.manylinux2014_x86_64.whl.metadata (2.3 kB)\n",
            "Downloading numpy-1.23.5-cp311-cp311-manylinux_2_17_x86_64.manylinux2014_x86_64.whl (17.1 MB)\n",
            "\u001b[2K   \u001b[90m━━━━━━━━━━━━━━━━━━━━━━━━━━━━━━━━━━━━━━━━\u001b[0m \u001b[32m17.1/17.1 MB\u001b[0m \u001b[31m79.0 MB/s\u001b[0m eta \u001b[36m0:00:00\u001b[0m\n",
            "\u001b[?25hInstalling collected packages: numpy\n",
            "  Attempting uninstall: numpy\n",
            "    Found existing installation: numpy 2.0.2\n",
            "    Uninstalling numpy-2.0.2:\n",
            "      Successfully uninstalled numpy-2.0.2\n",
            "\u001b[31mERROR: pip's dependency resolver does not currently take into account all the packages that are installed. This behaviour is the source of the following dependency conflicts.\n",
            "scikit-image 0.25.2 requires numpy>=1.24, but you have numpy 1.23.5 which is incompatible.\n",
            "jaxlib 0.5.1 requires numpy>=1.25, but you have numpy 1.23.5 which is incompatible.\n",
            "bigframes 2.8.0 requires numpy>=1.24.0, but you have numpy 1.23.5 which is incompatible.\n",
            "treescope 0.1.9 requires numpy>=1.25.2, but you have numpy 1.23.5 which is incompatible.\n",
            "pymc 5.23.0 requires numpy>=1.25.0, but you have numpy 1.23.5 which is incompatible.\n",
            "xarray 2025.3.1 requires numpy>=1.24, but you have numpy 1.23.5 which is incompatible.\n",
            "thinc 8.3.6 requires numpy<3.0.0,>=2.0.0, but you have numpy 1.23.5 which is incompatible.\n",
            "albucore 0.0.24 requires numpy>=1.24.4, but you have numpy 1.23.5 which is incompatible.\n",
            "tensorflow 2.18.0 requires numpy<2.1.0,>=1.26.0, but you have numpy 1.23.5 which is incompatible.\n",
            "jax 0.5.2 requires numpy>=1.25, but you have numpy 1.23.5 which is incompatible.\n",
            "albumentations 2.0.8 requires numpy>=1.24.4, but you have numpy 1.23.5 which is incompatible.\n",
            "db-dtypes 1.4.3 requires numpy>=1.24.0, but you have numpy 1.23.5 which is incompatible.\n",
            "imbalanced-learn 0.13.0 requires numpy<3,>=1.24.3, but you have numpy 1.23.5 which is incompatible.\n",
            "xarray-einstats 0.9.1 requires numpy>=1.25, but you have numpy 1.23.5 which is incompatible.\n",
            "chex 0.1.89 requires numpy>=1.24.1, but you have numpy 1.23.5 which is incompatible.\n",
            "blosc2 3.5.0 requires numpy>=1.26, but you have numpy 1.23.5 which is incompatible.\u001b[0m\u001b[31m\n",
            "\u001b[0mSuccessfully installed numpy-1.23.5\n"
          ]
        },
        {
          "data": {
            "application/vnd.colab-display-data+json": {
              "id": "934a72a8ff9d4ba781e6aea82de0a27c",
              "pip_warning": {
                "packages": [
                  "numpy"
                ]
              }
            }
          },
          "metadata": {},
          "output_type": "display_data"
        }
      ],
      "source": [
        "# this package requires numpy version 1.23.5!!!\n",
        "\n",
        "# !pip install numpy==1.23.5"
      ]
    },
    {
      "cell_type": "code",
      "execution_count": 8,
      "metadata": {
        "colab": {
          "base_uri": "https://localhost:8080/"
        },
        "id": "NJ0ZLgkhVHO9",
        "outputId": "2ea80818-9d1e-4b93-ddc3-87cc84a0f7bb"
      },
      "outputs": [
        {
          "name": "stdout",
          "output_type": "stream",
          "text": [
            "Python version: 3.11.9 (tags/v3.11.9:de54cf5, Apr  2 2024, 10:12:12) [MSC v.1938 64 bit (AMD64)]\n",
            "gym Version: 0.25.2\n",
            "numpy Version: 1.23.5\n"
          ]
        }
      ],
      "source": [
        "import sys\n",
        "print(f\"Python version: {sys.version}\")\n",
        "from pathlib import Path\n",
        "import gym\n",
        "print(f\"gym Version: {gym.__version__}\")\n",
        "from gym.wrappers import RecordVideo\n",
        "import numpy as np\n",
        "print(f\"numpy Version: {np.__version__}\")\n",
        "import matplotlib.pyplot as plt\n",
        "from collections import defaultdict\n",
        "import random\n",
        "\n",
        "from IPython.display import Video, display\n",
        "import glob\n",
        "import os\n"
      ]
    },
    {
      "cell_type": "code",
      "execution_count": 9,
      "metadata": {
        "id": "esYNjlUyVpqd"
      },
      "outputs": [],
      "source": [
        "# 🧠 Set action space and Q-table shape\n",
        "n_actions = gym.make(\"CartPole-v1\").action_space.n\n",
        "Q = defaultdict(lambda: np.zeros(n_actions))\n",
        "\n",
        "# 🧮 Discretization setup (based on known CartPole space)\n",
        "n_bins = (24, 24, 24, 24)  # bins for each state variable\n",
        "\n",
        "# CartPole-v1 state space boundaries\n",
        "obs_space_low = np.array([-4.8, -5.0, -0.418, -5.0])\n",
        "obs_space_high = np.array([4.8, 5.0, 0.418, 5.0])\n",
        "\n",
        "def discretize(obs):\n",
        "    ratios = [(obs[i] - obs_space_low[i]) / (obs_space_high[i] - obs_space_low[i]) for i in range(len(obs))]\n",
        "    new_obs = [int(np.floor(ratios[i] * n_bins[i])) for i in range(len(obs))]\n",
        "    new_obs = [min(n_bins[i] - 1, max(0, new_obs[i])) for i in range(len(obs))]\n",
        "    return tuple(new_obs)"
      ]
    },
    {
      "cell_type": "code",
      "execution_count": null,
      "metadata": {},
      "outputs": [],
      "source": [
        "# 🎥 Recording configuration\n",
        "recording_enabled = True       # 🔁 Set to False to disable all video recording\n",
        "record_from_episode = 99999999     # Video Recording Broken\n",
        "record_every_n_episodes = 100 # 🔂 Record every N episodes\n",
        "\n",
        "# 📁 Save videos in a \"videos\" folder one level above the notebook\n",
        "video_dir = (Path().resolve().parent / \"videos\").resolve()\n",
        "video_dir.mkdir(parents=True, exist_ok=True)\n",
        "\n",
        "def make_env_with_optional_recording(episode_num):\n",
        "    \"\"\"\n",
        "    Creates CartPole-v1 environment, optionally wrapped with RecordVideo.\n",
        "    Recording only occurs if enabled and episode_num matches conditions.\n",
        "    \"\"\"\n",
        "    if recording_enabled and episode_num >= record_from_episode and \\\n",
        "       (episode_num - record_from_episode) % record_every_n_episodes == 0:\n",
        "        env = gym.make(\"CartPole-v1\", render_mode=\"rgb_array\")\n",
        "        env = RecordVideo(\n",
        "            env,\n",
        "            video_folder=str(video_dir),\n",
        "            episode_trigger=lambda e: True,\n",
        "            name_prefix=f\"cartpole_ep{episode_num}\"\n",
        "        )\n",
        "        print(f\"[🎥] Recording episode {episode_num} to {video_dir}\")\n",
        "    else:\n",
        "        env = gym.make(\"CartPole-v1\")\n",
        "    return env"
      ]
    },
    {
      "cell_type": "code",
      "execution_count": 14,
      "metadata": {
        "id": "r7ob_5W4VsdH"
      },
      "outputs": [],
      "source": [
        "# Q-learning hyperparameters\n",
        "alpha = 0.1       # learning rate\n",
        "gamma = 0.99       # discount factor\n",
        "epsilon = 1.0      # exploration rate\n",
        "epsilon_decay = 0.995\n",
        "epsilon_min = 0.01\n",
        "n_episodes = 500"
      ]
    },
    {
      "cell_type": "code",
      "execution_count": 15,
      "metadata": {
        "colab": {
          "base_uri": "https://localhost:8080/"
        },
        "id": "UQvVILUoVzVe",
        "outputId": "2540957c-53f8-40ef-da0a-bf6ad95e00a7"
      },
      "outputs": [
        {
          "name": "stdout",
          "output_type": "stream",
          "text": [
            "Episode 50: reward=14.0, epsilon=0.778\n",
            "Episode 100: reward=25.0, epsilon=0.606\n",
            "Episode 150: reward=93.0, epsilon=0.471\n",
            "Episode 200: reward=114.0, epsilon=0.367\n",
            "[🎥] Recording episode 200 to D:\\Ufunta'ar Alavia\\rl-qlearn-cartpole\\videos\n"
          ]
        },
        {
          "ename": "DependencyNotInstalled",
          "evalue": "pygame is not installed, run `pip install gym[classic_control]`",
          "output_type": "error",
          "traceback": [
            "\u001b[31m---------------------------------------------------------------------------\u001b[39m",
            "\u001b[31mModuleNotFoundError\u001b[39m                       Traceback (most recent call last)",
            "\u001b[36mFile \u001b[39m\u001b[32md:\\Ufunta'ar Alavia\\rl-qlearn-cartpole\\.venv\\Lib\\site-packages\\gym\\envs\\classic_control\\cartpole.py:222\u001b[39m, in \u001b[36mCartPoleEnv._render\u001b[39m\u001b[34m(self, mode)\u001b[39m\n\u001b[32m    221\u001b[39m \u001b[38;5;28;01mtry\u001b[39;00m:\n\u001b[32m--> \u001b[39m\u001b[32m222\u001b[39m     \u001b[38;5;28;01mimport\u001b[39;00m\u001b[38;5;250m \u001b[39m\u001b[34;01mpygame\u001b[39;00m\n\u001b[32m    223\u001b[39m     \u001b[38;5;28;01mfrom\u001b[39;00m\u001b[38;5;250m \u001b[39m\u001b[34;01mpygame\u001b[39;00m\u001b[38;5;250m \u001b[39m\u001b[38;5;28;01mimport\u001b[39;00m gfxdraw\n",
            "\u001b[31mModuleNotFoundError\u001b[39m: No module named 'pygame'",
            "\nDuring handling of the above exception, another exception occurred:\n",
            "\u001b[31mDependencyNotInstalled\u001b[39m                    Traceback (most recent call last)",
            "\u001b[36mCell\u001b[39m\u001b[36m \u001b[39m\u001b[32mIn[15]\u001b[39m\u001b[32m, line 6\u001b[39m\n\u001b[32m      4\u001b[39m \u001b[38;5;28;01mfor\u001b[39;00m episode \u001b[38;5;129;01min\u001b[39;00m \u001b[38;5;28mrange\u001b[39m(n_episodes):\n\u001b[32m      5\u001b[39m     env = make_env_with_optional_recording(episode)  \u001b[38;5;66;03m# ⬅️ create env per episode\u001b[39;00m\n\u001b[32m----> \u001b[39m\u001b[32m6\u001b[39m     obs = \u001b[43menv\u001b[49m\u001b[43m.\u001b[49m\u001b[43mreset\u001b[49m\u001b[43m(\u001b[49m\u001b[43m)\u001b[49m\n\u001b[32m      7\u001b[39m     state = discretize(obs[\u001b[32m0\u001b[39m] \u001b[38;5;28;01mif\u001b[39;00m \u001b[38;5;28misinstance\u001b[39m(obs, \u001b[38;5;28mtuple\u001b[39m) \u001b[38;5;28;01melse\u001b[39;00m obs)\n\u001b[32m      8\u001b[39m     total_reward = \u001b[32m0\u001b[39m\n",
            "\u001b[36mFile \u001b[39m\u001b[32md:\\Ufunta'ar Alavia\\rl-qlearn-cartpole\\.venv\\Lib\\site-packages\\gym\\wrappers\\record_video.py:97\u001b[39m, in \u001b[36mRecordVideo.reset\u001b[39m\u001b[34m(self, **kwargs)\u001b[39m\n\u001b[32m     95\u001b[39m \u001b[38;5;28;01mdef\u001b[39;00m\u001b[38;5;250m \u001b[39m\u001b[34mreset\u001b[39m(\u001b[38;5;28mself\u001b[39m, **kwargs):\n\u001b[32m     96\u001b[39m \u001b[38;5;250m    \u001b[39m\u001b[33;03m\"\"\"Reset the environment using kwargs and then starts recording if video enabled.\"\"\"\u001b[39;00m\n\u001b[32m---> \u001b[39m\u001b[32m97\u001b[39m     observations = \u001b[38;5;28;43msuper\u001b[39;49m\u001b[43m(\u001b[49m\u001b[43m)\u001b[49m\u001b[43m.\u001b[49m\u001b[43mreset\u001b[49m\u001b[43m(\u001b[49m\u001b[43m*\u001b[49m\u001b[43m*\u001b[49m\u001b[43mkwargs\u001b[49m\u001b[43m)\u001b[49m\n\u001b[32m     98\u001b[39m     \u001b[38;5;28mself\u001b[39m.terminated = \u001b[38;5;28;01mFalse\u001b[39;00m\n\u001b[32m     99\u001b[39m     \u001b[38;5;28mself\u001b[39m.truncated = \u001b[38;5;28;01mFalse\u001b[39;00m\n",
            "\u001b[36mFile \u001b[39m\u001b[32md:\\Ufunta'ar Alavia\\rl-qlearn-cartpole\\.venv\\Lib\\site-packages\\gym\\core.py:415\u001b[39m, in \u001b[36mWrapper.reset\u001b[39m\u001b[34m(self, **kwargs)\u001b[39m\n\u001b[32m    413\u001b[39m \u001b[38;5;28;01mdef\u001b[39;00m\u001b[38;5;250m \u001b[39m\u001b[34mreset\u001b[39m(\u001b[38;5;28mself\u001b[39m, **kwargs) -> Union[ObsType, Tuple[ObsType, \u001b[38;5;28mdict\u001b[39m]]:\n\u001b[32m    414\u001b[39m \u001b[38;5;250m    \u001b[39m\u001b[33;03m\"\"\"Resets the environment with kwargs.\"\"\"\u001b[39;00m\n\u001b[32m--> \u001b[39m\u001b[32m415\u001b[39m     \u001b[38;5;28;01mreturn\u001b[39;00m \u001b[38;5;28;43mself\u001b[39;49m\u001b[43m.\u001b[49m\u001b[43menv\u001b[49m\u001b[43m.\u001b[49m\u001b[43mreset\u001b[49m\u001b[43m(\u001b[49m\u001b[43m*\u001b[49m\u001b[43m*\u001b[49m\u001b[43mkwargs\u001b[49m\u001b[43m)\u001b[49m\n",
            "\u001b[36mFile \u001b[39m\u001b[32md:\\Ufunta'ar Alavia\\rl-qlearn-cartpole\\.venv\\Lib\\site-packages\\gym\\wrappers\\time_limit.py:86\u001b[39m, in \u001b[36mTimeLimit.reset\u001b[39m\u001b[34m(self, **kwargs)\u001b[39m\n\u001b[32m     77\u001b[39m \u001b[38;5;250m\u001b[39m\u001b[33;03m\"\"\"Resets the environment with :param:`**kwargs` and sets the number of steps elapsed to zero.\u001b[39;00m\n\u001b[32m     78\u001b[39m \n\u001b[32m     79\u001b[39m \u001b[33;03mArgs:\u001b[39;00m\n\u001b[32m   (...)\u001b[39m\u001b[32m     83\u001b[39m \u001b[33;03m    The reset environment\u001b[39;00m\n\u001b[32m     84\u001b[39m \u001b[33;03m\"\"\"\u001b[39;00m\n\u001b[32m     85\u001b[39m \u001b[38;5;28mself\u001b[39m._elapsed_steps = \u001b[32m0\u001b[39m\n\u001b[32m---> \u001b[39m\u001b[32m86\u001b[39m \u001b[38;5;28;01mreturn\u001b[39;00m \u001b[38;5;28;43mself\u001b[39;49m\u001b[43m.\u001b[49m\u001b[43menv\u001b[49m\u001b[43m.\u001b[49m\u001b[43mreset\u001b[49m\u001b[43m(\u001b[49m\u001b[43m*\u001b[49m\u001b[43m*\u001b[49m\u001b[43mkwargs\u001b[49m\u001b[43m)\u001b[49m\n",
            "\u001b[36mFile \u001b[39m\u001b[32md:\\Ufunta'ar Alavia\\rl-qlearn-cartpole\\.venv\\Lib\\site-packages\\gym\\wrappers\\order_enforcing.py:42\u001b[39m, in \u001b[36mOrderEnforcing.reset\u001b[39m\u001b[34m(self, **kwargs)\u001b[39m\n\u001b[32m     40\u001b[39m \u001b[38;5;250m\u001b[39m\u001b[33;03m\"\"\"Resets the environment with `kwargs`.\"\"\"\u001b[39;00m\n\u001b[32m     41\u001b[39m \u001b[38;5;28mself\u001b[39m._has_reset = \u001b[38;5;28;01mTrue\u001b[39;00m\n\u001b[32m---> \u001b[39m\u001b[32m42\u001b[39m \u001b[38;5;28;01mreturn\u001b[39;00m \u001b[38;5;28;43mself\u001b[39;49m\u001b[43m.\u001b[49m\u001b[43menv\u001b[49m\u001b[43m.\u001b[49m\u001b[43mreset\u001b[49m\u001b[43m(\u001b[49m\u001b[43m*\u001b[49m\u001b[43m*\u001b[49m\u001b[43mkwargs\u001b[49m\u001b[43m)\u001b[49m\n",
            "\u001b[36mFile \u001b[39m\u001b[32md:\\Ufunta'ar Alavia\\rl-qlearn-cartpole\\.venv\\Lib\\site-packages\\gym\\core.py:415\u001b[39m, in \u001b[36mWrapper.reset\u001b[39m\u001b[34m(self, **kwargs)\u001b[39m\n\u001b[32m    413\u001b[39m \u001b[38;5;28;01mdef\u001b[39;00m\u001b[38;5;250m \u001b[39m\u001b[34mreset\u001b[39m(\u001b[38;5;28mself\u001b[39m, **kwargs) -> Union[ObsType, Tuple[ObsType, \u001b[38;5;28mdict\u001b[39m]]:\n\u001b[32m    414\u001b[39m \u001b[38;5;250m    \u001b[39m\u001b[33;03m\"\"\"Resets the environment with kwargs.\"\"\"\u001b[39;00m\n\u001b[32m--> \u001b[39m\u001b[32m415\u001b[39m     \u001b[38;5;28;01mreturn\u001b[39;00m \u001b[38;5;28;43mself\u001b[39;49m\u001b[43m.\u001b[49m\u001b[43menv\u001b[49m\u001b[43m.\u001b[49m\u001b[43mreset\u001b[49m\u001b[43m(\u001b[49m\u001b[43m*\u001b[49m\u001b[43m*\u001b[49m\u001b[43mkwargs\u001b[49m\u001b[43m)\u001b[49m\n",
            "\u001b[36mFile \u001b[39m\u001b[32md:\\Ufunta'ar Alavia\\rl-qlearn-cartpole\\.venv\\Lib\\site-packages\\gym\\wrappers\\env_checker.py:45\u001b[39m, in \u001b[36mPassiveEnvChecker.reset\u001b[39m\u001b[34m(self, **kwargs)\u001b[39m\n\u001b[32m     43\u001b[39m \u001b[38;5;28;01mif\u001b[39;00m \u001b[38;5;28mself\u001b[39m.checked_reset \u001b[38;5;129;01mis\u001b[39;00m \u001b[38;5;28;01mFalse\u001b[39;00m:\n\u001b[32m     44\u001b[39m     \u001b[38;5;28mself\u001b[39m.checked_reset = \u001b[38;5;28;01mTrue\u001b[39;00m\n\u001b[32m---> \u001b[39m\u001b[32m45\u001b[39m     \u001b[38;5;28;01mreturn\u001b[39;00m \u001b[43menv_reset_passive_checker\u001b[49m\u001b[43m(\u001b[49m\u001b[38;5;28;43mself\u001b[39;49m\u001b[43m.\u001b[49m\u001b[43menv\u001b[49m\u001b[43m,\u001b[49m\u001b[43m \u001b[49m\u001b[43m*\u001b[49m\u001b[43m*\u001b[49m\u001b[43mkwargs\u001b[49m\u001b[43m)\u001b[49m\n\u001b[32m     46\u001b[39m \u001b[38;5;28;01melse\u001b[39;00m:\n\u001b[32m     47\u001b[39m     \u001b[38;5;28;01mreturn\u001b[39;00m \u001b[38;5;28mself\u001b[39m.env.reset(**kwargs)\n",
            "\u001b[36mFile \u001b[39m\u001b[32md:\\Ufunta'ar Alavia\\rl-qlearn-cartpole\\.venv\\Lib\\site-packages\\gym\\utils\\passive_env_checker.py:200\u001b[39m, in \u001b[36menv_reset_passive_checker\u001b[39m\u001b[34m(env, **kwargs)\u001b[39m\n\u001b[32m    195\u001b[39m     logger.warn(\n\u001b[32m    196\u001b[39m         \u001b[33m\"\u001b[39m\u001b[33mFuture gym versions will require that `Env.reset` can be passed `options` to allow the environment initialisation to be passed additional information.\u001b[39m\u001b[33m\"\u001b[39m\n\u001b[32m    197\u001b[39m     )\n\u001b[32m    199\u001b[39m \u001b[38;5;66;03m# Checks the result of env.reset with kwargs\u001b[39;00m\n\u001b[32m--> \u001b[39m\u001b[32m200\u001b[39m result = \u001b[43menv\u001b[49m\u001b[43m.\u001b[49m\u001b[43mreset\u001b[49m\u001b[43m(\u001b[49m\u001b[43m*\u001b[49m\u001b[43m*\u001b[49m\u001b[43mkwargs\u001b[49m\u001b[43m)\u001b[49m\n\u001b[32m    201\u001b[39m \u001b[38;5;28;01mif\u001b[39;00m kwargs.get(\u001b[33m\"\u001b[39m\u001b[33mreturn_info\u001b[39m\u001b[33m\"\u001b[39m, \u001b[38;5;28;01mFalse\u001b[39;00m) \u001b[38;5;129;01mis\u001b[39;00m \u001b[38;5;28;01mTrue\u001b[39;00m:\n\u001b[32m    202\u001b[39m     \u001b[38;5;28;01massert\u001b[39;00m \u001b[38;5;28misinstance\u001b[39m(\n\u001b[32m    203\u001b[39m         result, \u001b[38;5;28mtuple\u001b[39m\n\u001b[32m    204\u001b[39m     ), \u001b[33mf\u001b[39m\u001b[33m\"\u001b[39m\u001b[33mThe result returned by `env.reset(return_info=True)` was not a tuple, actual type: \u001b[39m\u001b[38;5;132;01m{\u001b[39;00m\u001b[38;5;28mtype\u001b[39m(result)\u001b[38;5;132;01m}\u001b[39;00m\u001b[33m\"\u001b[39m\n",
            "\u001b[36mFile \u001b[39m\u001b[32md:\\Ufunta'ar Alavia\\rl-qlearn-cartpole\\.venv\\Lib\\site-packages\\gym\\envs\\classic_control\\cartpole.py:207\u001b[39m, in \u001b[36mCartPoleEnv.reset\u001b[39m\u001b[34m(self, seed, return_info, options)\u001b[39m\n\u001b[32m    205\u001b[39m \u001b[38;5;28mself\u001b[39m.steps_beyond_terminated = \u001b[38;5;28;01mNone\u001b[39;00m\n\u001b[32m    206\u001b[39m \u001b[38;5;28mself\u001b[39m.renderer.reset()\n\u001b[32m--> \u001b[39m\u001b[32m207\u001b[39m \u001b[38;5;28;43mself\u001b[39;49m\u001b[43m.\u001b[49m\u001b[43mrenderer\u001b[49m\u001b[43m.\u001b[49m\u001b[43mrender_step\u001b[49m\u001b[43m(\u001b[49m\u001b[43m)\u001b[49m\n\u001b[32m    208\u001b[39m \u001b[38;5;28;01mif\u001b[39;00m \u001b[38;5;129;01mnot\u001b[39;00m return_info:\n\u001b[32m    209\u001b[39m     \u001b[38;5;28;01mreturn\u001b[39;00m np.array(\u001b[38;5;28mself\u001b[39m.state, dtype=np.float32)\n",
            "\u001b[36mFile \u001b[39m\u001b[32md:\\Ufunta'ar Alavia\\rl-qlearn-cartpole\\.venv\\Lib\\site-packages\\gym\\utils\\renderer.py:58\u001b[39m, in \u001b[36mRenderer.render_step\u001b[39m\u001b[34m(self)\u001b[39m\n\u001b[32m     53\u001b[39m \u001b[38;5;250m\u001b[39m\u001b[33;03m\"\"\"Computes a frame and save it to the render collection list.\u001b[39;00m\n\u001b[32m     54\u001b[39m \n\u001b[32m     55\u001b[39m \u001b[33;03mThis method should be usually called inside environment's step and reset method.\u001b[39;00m\n\u001b[32m     56\u001b[39m \u001b[33;03m\"\"\"\u001b[39;00m\n\u001b[32m     57\u001b[39m \u001b[38;5;28;01mif\u001b[39;00m \u001b[38;5;28mself\u001b[39m.mode \u001b[38;5;129;01mis\u001b[39;00m \u001b[38;5;129;01mnot\u001b[39;00m \u001b[38;5;28;01mNone\u001b[39;00m \u001b[38;5;129;01mand\u001b[39;00m \u001b[38;5;28mself\u001b[39m.mode \u001b[38;5;129;01mnot\u001b[39;00m \u001b[38;5;129;01min\u001b[39;00m \u001b[38;5;28mself\u001b[39m.single_render:\n\u001b[32m---> \u001b[39m\u001b[32m58\u001b[39m     render_return = \u001b[38;5;28;43mself\u001b[39;49m\u001b[43m.\u001b[49m\u001b[43mrender\u001b[49m\u001b[43m(\u001b[49m\u001b[38;5;28;43mself\u001b[39;49m\u001b[43m.\u001b[49m\u001b[43mmode\u001b[49m\u001b[43m)\u001b[49m\n\u001b[32m     59\u001b[39m     \u001b[38;5;28;01mif\u001b[39;00m \u001b[38;5;28mself\u001b[39m.mode \u001b[38;5;129;01mnot\u001b[39;00m \u001b[38;5;129;01min\u001b[39;00m \u001b[38;5;28mself\u001b[39m.no_returns_render:\n\u001b[32m     60\u001b[39m         \u001b[38;5;28mself\u001b[39m.render_list.append(render_return)\n",
            "\u001b[36mFile \u001b[39m\u001b[32md:\\Ufunta'ar Alavia\\rl-qlearn-cartpole\\.venv\\Lib\\site-packages\\gym\\envs\\classic_control\\cartpole.py:225\u001b[39m, in \u001b[36mCartPoleEnv._render\u001b[39m\u001b[34m(self, mode)\u001b[39m\n\u001b[32m    223\u001b[39m     \u001b[38;5;28;01mfrom\u001b[39;00m\u001b[38;5;250m \u001b[39m\u001b[34;01mpygame\u001b[39;00m\u001b[38;5;250m \u001b[39m\u001b[38;5;28;01mimport\u001b[39;00m gfxdraw\n\u001b[32m    224\u001b[39m \u001b[38;5;28;01mexcept\u001b[39;00m \u001b[38;5;167;01mImportError\u001b[39;00m:\n\u001b[32m--> \u001b[39m\u001b[32m225\u001b[39m     \u001b[38;5;28;01mraise\u001b[39;00m DependencyNotInstalled(\n\u001b[32m    226\u001b[39m         \u001b[33m\"\u001b[39m\u001b[33mpygame is not installed, run `pip install gym[classic_control]`\u001b[39m\u001b[33m\"\u001b[39m\n\u001b[32m    227\u001b[39m     )\n\u001b[32m    229\u001b[39m \u001b[38;5;28;01mif\u001b[39;00m \u001b[38;5;28mself\u001b[39m.screen \u001b[38;5;129;01mis\u001b[39;00m \u001b[38;5;28;01mNone\u001b[39;00m:\n\u001b[32m    230\u001b[39m     pygame.init()\n",
            "\u001b[31mDependencyNotInstalled\u001b[39m: pygame is not installed, run `pip install gym[classic_control]`"
          ]
        }
      ],
      "source": [
        "rewards_per_episode = []\n",
        "\n",
        "# Q-learning loop\n",
        "for episode in range(n_episodes):\n",
        "    env = make_env_with_optional_recording(episode)  # ⬅️ create env per episode\n",
        "    obs = env.reset()\n",
        "    state = discretize(obs[0] if isinstance(obs, tuple) else obs)\n",
        "    total_reward = 0\n",
        "\n",
        "    done = False\n",
        "    while not done:\n",
        "        if random.random() < epsilon:\n",
        "            action = env.action_space.sample()\n",
        "        else:\n",
        "            action = np.argmax(Q[state])\n",
        "\n",
        "        next_obs, reward, done, _, = env.step(action)\n",
        "        next_state = discretize(next_obs)\n",
        "        total_reward += reward\n",
        "\n",
        "        # Update Q-value\n",
        "        best_next_action = np.argmax(Q[next_state])\n",
        "        td_target = reward + gamma * Q[next_state][best_next_action]\n",
        "        td_delta = td_target - Q[state][action]\n",
        "        Q[state][action] += alpha * td_delta\n",
        "\n",
        "        state = next_state\n",
        "\n",
        "    env.close()  # ✅ close per-episode env, especially for video encoding\n",
        "\n",
        "    epsilon = max(epsilon_min, epsilon * epsilon_decay)\n",
        "    rewards_per_episode.append(total_reward)\n",
        "\n",
        "    if (episode + 1) % (n_episodes // 10) == 0:\n",
        "        print(f\"Episode {episode + 1}: reward={total_reward}, epsilon={epsilon:.3f}\")\n"
      ]
    },
    {
      "cell_type": "code",
      "execution_count": 28,
      "metadata": {
        "colab": {
          "base_uri": "https://localhost:8080/",
          "height": 487
        },
        "id": "SKkGWgWnV3uS",
        "outputId": "06f678a4-c53d-418e-dab5-5510e29d2ca1"
      },
      "outputs": [
        {
          "data": {
            "image/png": "[encoded data removed]",
            "text/plain": [
              "<Figure size 1200x500 with 1 Axes>"
            ]
          },
          "metadata": {},
          "output_type": "display_data"
        }
      ],
      "source": [
        "# Plot training performance\n",
        "def moving_average(data, window_size=50):\n",
        "    return np.convolve(data, np.ones(window_size)/window_size, mode='valid')\n",
        "\n",
        "plt.figure(figsize=(12, 5))\n",
        "plt.plot(moving_average(rewards_per_episode, 100))\n",
        "plt.xlabel(\"Episode\")\n",
        "plt.ylabel(\"Reward\")\n",
        "plt.title(\"Q-Learning on CartPole-v1\")\n",
        "plt.grid(True)\n",
        "plt.show()"
      ]
    },
    {
      "cell_type": "code",
      "execution_count": 3,
      "metadata": {},
      "outputs": [
        {
          "ename": "NameError",
          "evalue": "name 'video_dir' is not defined",
          "output_type": "error",
          "traceback": [
            "\u001b[31m---------------------------------------------------------------------------\u001b[39m",
            "\u001b[31mNameError\u001b[39m                                 Traceback (most recent call last)",
            "\u001b[36mCell\u001b[39m\u001b[36m \u001b[39m\u001b[32mIn[3]\u001b[39m\u001b[32m, line 2\u001b[39m\n\u001b[32m      1\u001b[39m \u001b[38;5;66;03m# Find the most recent video file in the video directory\u001b[39;00m\n\u001b[32m----> \u001b[39m\u001b[32m2\u001b[39m video_files = glob.glob(\u001b[38;5;28mstr\u001b[39m(\u001b[43mvideo_dir\u001b[49m / \u001b[33m\"\u001b[39m\u001b[33m*.mp4\u001b[39m\u001b[33m\"\u001b[39m))\n\u001b[32m      3\u001b[39m \u001b[38;5;28;01mif\u001b[39;00m \u001b[38;5;129;01mnot\u001b[39;00m video_files:\n\u001b[32m      4\u001b[39m     \u001b[38;5;28mprint\u001b[39m(\u001b[33m\"\u001b[39m\u001b[33mNo videos found in\u001b[39m\u001b[33m\"\u001b[39m, video_dir)\n",
            "\u001b[31mNameError\u001b[39m: name 'video_dir' is not defined"
          ]
        }
      ],
      "source": [
        "# Find the most recent video file in the video directory\n",
        "video_files = glob.glob(str(video_dir / \"*.mp4\"))\n",
        "if not video_files:\n",
        "    print(\"No videos found in\", video_dir)\n",
        "else:\n",
        "    latest_video = max(video_files, key=os.path.getctime)\n",
        "    print(f\"Displaying video: {os.path.basename(latest_video)}\")\n",
        "    display(Video(latest_video, embed=True, width=600))"
      ]
    }
  ],
  "metadata": {
    "colab": {
      "provenance": []
    },
    "kernelspec": {
      "display_name": "rl-qlearn-cartpole-3.11",
      "language": "python",
      "name": "python3"
    },
    "language_info": {
      "codemirror_mode": {
        "name": "ipython",
        "version": 3
      },
      "file_extension": ".py",
      "mimetype": "text/x-python",
      "name": "python",
      "nbconvert_exporter": "python",
      "pygments_lexer": "ipython3",
      "version": "3.11.9"
    }
  },
  "nbformat": 4,
  "nbformat_minor": 0
}
