{
  "cells": [
    {
      "cell_type": "code",
      "execution_count": null,
      "metadata": {
        "colab": {
          "base_uri": "https://localhost:8080/",
          "height": 602
        },
        "collapsed": true,
        "id": "0rQajcQjXKPX",
        "outputId": "5f53c826-b445-446e-91d3-8242f8912811"
      },
      "outputs": [
        {
          "name": "stdout",
          "output_type": "stream",
          "text": [
            "Collecting numpy==1.23.5\n",
            "  Downloading numpy-1.23.5-cp311-cp311-manylinux_2_17_x86_64.manylinux2014_x86_64.whl.metadata (2.3 kB)\n",
            "Downloading numpy-1.23.5-cp311-cp311-manylinux_2_17_x86_64.manylinux2014_x86_64.whl (17.1 MB)\n",
            "\u001b[2K   \u001b[90m━━━━━━━━━━━━━━━━━━━━━━━━━━━━━━━━━━━━━━━━\u001b[0m \u001b[32m17.1/17.1 MB\u001b[0m \u001b[31m79.0 MB/s\u001b[0m eta \u001b[36m0:00:00\u001b[0m\n",
            "\u001b[?25hInstalling collected packages: numpy\n",
            "  Attempting uninstall: numpy\n",
            "    Found existing installation: numpy 2.0.2\n",
            "    Uninstalling numpy-2.0.2:\n",
            "      Successfully uninstalled numpy-2.0.2\n",
            "\u001b[31mERROR: pip's dependency resolver does not currently take into account all the packages that are installed. This behaviour is the source of the following dependency conflicts.\n",
            "scikit-image 0.25.2 requires numpy>=1.24, but you have numpy 1.23.5 which is incompatible.\n",
            "jaxlib 0.5.1 requires numpy>=1.25, but you have numpy 1.23.5 which is incompatible.\n",
            "bigframes 2.8.0 requires numpy>=1.24.0, but you have numpy 1.23.5 which is incompatible.\n",
            "treescope 0.1.9 requires numpy>=1.25.2, but you have numpy 1.23.5 which is incompatible.\n",
            "pymc 5.23.0 requires numpy>=1.25.0, but you have numpy 1.23.5 which is incompatible.\n",
            "xarray 2025.3.1 requires numpy>=1.24, but you have numpy 1.23.5 which is incompatible.\n",
            "thinc 8.3.6 requires numpy<3.0.0,>=2.0.0, but you have numpy 1.23.5 which is incompatible.\n",
            "albucore 0.0.24 requires numpy>=1.24.4, but you have numpy 1.23.5 which is incompatible.\n",
            "tensorflow 2.18.0 requires numpy<2.1.0,>=1.26.0, but you have numpy 1.23.5 which is incompatible.\n",
            "jax 0.5.2 requires numpy>=1.25, but you have numpy 1.23.5 which is incompatible.\n",
            "albumentations 2.0.8 requires numpy>=1.24.4, but you have numpy 1.23.5 which is incompatible.\n",
            "db-dtypes 1.4.3 requires numpy>=1.24.0, but you have numpy 1.23.5 which is incompatible.\n",
            "imbalanced-learn 0.13.0 requires numpy<3,>=1.24.3, but you have numpy 1.23.5 which is incompatible.\n",
            "xarray-einstats 0.9.1 requires numpy>=1.25, but you have numpy 1.23.5 which is incompatible.\n",
            "chex 0.1.89 requires numpy>=1.24.1, but you have numpy 1.23.5 which is incompatible.\n",
            "blosc2 3.5.0 requires numpy>=1.26, but you have numpy 1.23.5 which is incompatible.\u001b[0m\u001b[31m\n",
            "\u001b[0mSuccessfully installed numpy-1.23.5\n"
          ]
        },
        {
          "data": {
            "application/vnd.colab-display-data+json": {
              "id": "934a72a8ff9d4ba781e6aea82de0a27c",
              "pip_warning": {
                "packages": [
                  "numpy"
                ]
              }
            }
          },
          "metadata": {},
          "output_type": "display_data"
        }
      ],
      "source": [
        "# this package requires numpy version 1.23.5!!!\n",
        "\n",
        "# !pip install numpy==1.23.5"
      ]
    },
    {
      "cell_type": "code",
      "execution_count": 1,
      "metadata": {
        "colab": {
          "base_uri": "https://localhost:8080/"
        },
        "id": "NJ0ZLgkhVHO9",
        "outputId": "2ea80818-9d1e-4b93-ddc3-87cc84a0f7bb"
      },
      "outputs": [
        {
          "name": "stdout",
          "output_type": "stream",
          "text": [
            "Python version: 3.11.9 (tags/v3.11.9:de54cf5, Apr  2 2024, 10:12:12) [MSC v.1938 64 bit (AMD64)]\n",
            "gym Version: 0.25.2\n",
            "numpy Version: 1.23.5\n"
          ]
        }
      ],
      "source": [
        "import sys\n",
        "print(f\"Python version: {sys.version}\")\n",
        "\n",
        "import gym\n",
        "print(f\"gym Version: {gym.__version__}\")\n",
        "import numpy as np\n",
        "print(f\"numpy Version: {np.__version__}\")\n",
        "import matplotlib.pyplot as plt\n",
        "from collections import defaultdict\n",
        "import random\n"
      ]
    },
    {
      "cell_type": "code",
      "execution_count": 2,
      "metadata": {
        "id": "esYNjlUyVpqd"
      },
      "outputs": [
        {
          "name": "stderr",
          "output_type": "stream",
          "text": [
            "d:\\Ufunta'ar Alavia\\rl-qlearn-cartpole\\.venv\\Lib\\site-packages\\gym\\core.py:317: DeprecationWarning: \u001b[33mWARN: Initializing wrapper in old step API which returns one bool instead of two. It is recommended to set `new_step_api=True` to use new step API. This will be the default behaviour in future.\u001b[0m\n",
            "  deprecation(\n",
            "d:\\Ufunta'ar Alavia\\rl-qlearn-cartpole\\.venv\\Lib\\site-packages\\gym\\wrappers\\step_api_compatibility.py:39: DeprecationWarning: \u001b[33mWARN: Initializing environment in old step API which returns one bool instead of two. It is recommended to set `new_step_api=True` to use new step API. This will be the default behaviour in future.\u001b[0m\n",
            "  deprecation(\n"
          ]
        }
      ],
      "source": [
        "# Set up the CartPole environment\n",
        "env = gym.make(\"CartPole-v1\")\n",
        "n_actions = env.action_space.n\n",
        "\n",
        "# Discretize continuous state space\n",
        "n_bins = (24, 24, 24, 24) # bins for each state variable\n",
        "\n",
        "obs_space_low = env.observation_space.low\n",
        "obs_space_high = env.observation_space.high\n",
        "obs_space_high[1] = 5\n",
        "obs_space_low[1] = -5\n",
        "obs_space_high[3] = 5\n",
        "obs_space_low[3] = -5\n",
        "\n",
        "def discretize(obs):\n",
        "    ratios = [(obs[i] - obs_space_low[i]) / (obs_space_high[i] - obs_space_low[i]) for i in range(len(obs))]\n",
        "    new_obs = [int(np.floor(ratios[i] * n_bins[i])) for i in range(len(obs))]\n",
        "    new_obs = [min(n_bins[i] - 1, max(0, new_obs[i])) for i in range(len(obs))]\n",
        "    return tuple(new_obs)\n",
        "\n",
        "# Initialize Q-table\n",
        "Q = defaultdict(lambda: np.zeros(n_actions))"
      ]
    },
    {
      "cell_type": "code",
      "execution_count": 3,
      "metadata": {
        "id": "r7ob_5W4VsdH"
      },
      "outputs": [],
      "source": [
        "# Q-learning hyperparameters\n",
        "alpha = 0.1       # learning rate\n",
        "gamma = 0.99       # discount factor\n",
        "epsilon = 1.0      # exploration rate\n",
        "epsilon_decay = 0.999\n",
        "epsilon_min = 0.01\n",
        "n_episodes = 500"
      ]
    },
    {
      "cell_type": "code",
      "execution_count": 4,
      "metadata": {
        "colab": {
          "base_uri": "https://localhost:8080/"
        },
        "id": "UQvVILUoVzVe",
        "outputId": "2540957c-53f8-40ef-da0a-bf6ad95e00a7"
      },
      "outputs": [
        {
          "name": "stdout",
          "output_type": "stream",
          "text": [
            "Episode 50: reward=14.0, epsilon=0.951\n",
            "Episode 100: reward=15.0, epsilon=0.905\n",
            "Episode 150: reward=26.0, epsilon=0.861\n",
            "Episode 200: reward=21.0, epsilon=0.819\n",
            "Episode 250: reward=16.0, epsilon=0.779\n",
            "Episode 300: reward=18.0, epsilon=0.741\n",
            "Episode 350: reward=16.0, epsilon=0.705\n",
            "Episode 400: reward=43.0, epsilon=0.670\n",
            "Episode 450: reward=26.0, epsilon=0.637\n",
            "Episode 500: reward=37.0, epsilon=0.606\n"
          ]
        }
      ],
      "source": [
        "rewards_per_episode = []\n",
        "\n",
        "# Q-learning loop\n",
        "for episode in range(n_episodes):\n",
        "    obs = env.reset()\n",
        "    state = discretize(obs[0] if isinstance(obs, tuple) else obs)\n",
        "    total_reward = 0\n",
        "\n",
        "    done = False\n",
        "    while not done:\n",
        "        if random.random() < epsilon:\n",
        "            action = env.action_space.sample()\n",
        "        else:\n",
        "            action = np.argmax(Q[state])\n",
        "\n",
        "        next_obs, reward, done, _, = env.step(action)\n",
        "        next_state = discretize(next_obs)\n",
        "        total_reward += reward\n",
        "\n",
        "        # Update Q-value\n",
        "        best_next_action = np.argmax(Q[next_state])\n",
        "        td_target = reward + gamma * Q[next_state][best_next_action]\n",
        "        td_delta = td_target - Q[state][action]\n",
        "        Q[state][action] += alpha * td_delta\n",
        "\n",
        "        state = next_state\n",
        "\n",
        "    epsilon = max(epsilon_min, epsilon * epsilon_decay)\n",
        "    rewards_per_episode.append(total_reward)\n",
        "\n",
        "    if (episode + 1) % (n_episodes/10) == 0:\n",
        "        print(f\"Episode {episode + 1}: reward={total_reward}, epsilon={epsilon:.3f}\")\n",
        "\n",
        "env.close()\n"
      ]
    },
    {
      "cell_type": "code",
      "execution_count": 5,
      "metadata": {
        "colab": {
          "base_uri": "https://localhost:8080/",
          "height": 487
        },
        "id": "SKkGWgWnV3uS",
        "outputId": "06f678a4-c53d-418e-dab5-5510e29d2ca1"
      },
      "outputs": [
        {
          "data": {
            "image/png": "[encoded data removed]",
            "text/plain": [
              "<Figure size 1200x500 with 1 Axes>"
            ]
          },
          "metadata": {},
          "output_type": "display_data"
        }
      ],
      "source": [
        "# Plot training performance\n",
        "def moving_average(data, window_size=50):\n",
        "    return np.convolve(data, np.ones(window_size)/window_size, mode='valid')\n",
        "\n",
        "plt.figure(figsize=(12, 5))\n",
        "plt.plot(moving_average(rewards_per_episode, 250))\n",
        "plt.xlabel(\"Episode\")\n",
        "plt.ylabel(\"Reward\")\n",
        "plt.title(\"Q-Learning on CartPole-v1\")\n",
        "plt.grid(True)\n",
        "plt.show()"
      ]
    }
  ],
  "metadata": {
    "colab": {
      "provenance": []
    },
    "kernelspec": {
      "display_name": "rl-qlearn-cartpole-3.11",
      "language": "python",
      "name": "python3"
    },
    "language_info": {
      "codemirror_mode": {
        "name": "ipython",
        "version": 3
      },
      "file_extension": ".py",
      "mimetype": "text/x-python",
      "name": "python",
      "nbconvert_exporter": "python",
      "pygments_lexer": "ipython3",
      "version": "3.11.9"
    }
  },
  "nbformat": 4,
  "nbformat_minor": 0
}
